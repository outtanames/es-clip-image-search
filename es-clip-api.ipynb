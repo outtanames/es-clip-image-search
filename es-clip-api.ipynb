{
 "cells": [
  {
   "cell_type": "markdown",
   "id": "3f68946a",
   "metadata": {},
   "source": [
    "First we need to hit the indexing endpoint to load some number of images from our pre-featurized dataset(say 10,000) into ES for search"
   ]
  },
  {
   "cell_type": "code",
   "execution_count": 1,
   "id": "43e13e65",
   "metadata": {},
   "outputs": [
    {
     "name": "stdout",
     "output_type": "stream",
     "text": [
      "<Response [200]>\n"
     ]
    }
   ],
   "source": [
    "import json\n",
    "import requests\n",
    "\n",
    "index_response = requests.get('http://localhost:8000/index', params={'count':10000})\n",
    "print(index_response)"
   ]
  },
  {
   "cell_type": "markdown",
   "id": "73c07e91",
   "metadata": {},
   "source": [
    "Now we can hit the search endpoint with a query"
   ]
  },
  {
   "cell_type": "code",
   "execution_count": 30,
   "id": "6d05bd2d",
   "metadata": {},
   "outputs": [
    {
     "name": "stdout",
     "output_type": "stream",
     "text": [
      "['https://unsplash.com/photos/FAcSe7SjDUU/', 'https://unsplash.com/photos/FwWTH1-O6xI/', 'https://unsplash.com/photos/Tbf7H8d2YcU/', 'https://unsplash.com/photos/fseyI75HPRw/', 'https://unsplash.com/photos/wEedibptB34/', 'https://unsplash.com/photos/AVUX8QXnj4Y/', 'https://unsplash.com/photos/d_z_-ckeOSs/', 'https://unsplash.com/photos/bLQFCJDImnc/', 'https://unsplash.com/photos/wuGnv4fFbpA/', 'https://unsplash.com/photos/sK0tm_ZRkLs/', 'https://unsplash.com/photos/nzmPi4d5cvc/', 'https://unsplash.com/photos/nOfMXvdfgqg/', 'https://unsplash.com/photos/k8PGDivtnOE/', 'https://unsplash.com/photos/vnocuAkEZ1c/', 'https://unsplash.com/photos/BE2GzN6PH98/', 'https://unsplash.com/photos/54j8X38VwoM/', 'https://unsplash.com/photos/3_KN64um8kM/', 'https://unsplash.com/photos/5Zp48SaMd20/']\n"
     ]
    }
   ],
   "source": [
    "search_response = requests.get('http://localhost:8000/search', params={'query':'dogs playing in snow'})\n",
    "response_dict = search_response.json()\n",
    "urls = [hit['_id'] for hit in response_dict['hits']['hits']]\n",
    "print(urls)"
   ]
  },
  {
   "cell_type": "markdown",
   "id": "39c2b982",
   "metadata": {},
   "source": [
    "Unsplash requires registration (as well as a paid account?) to download the above through their API for rendering inline. For now, this supports loading the URLs."
   ]
  },
  {
   "cell_type": "code",
   "execution_count": null,
   "id": "882cb5f1",
   "metadata": {},
   "outputs": [],
   "source": []
  }
 ],
 "metadata": {
  "kernelspec": {
   "display_name": "Python 3",
   "language": "python",
   "name": "python3"
  },
  "language_info": {
   "codemirror_mode": {
    "name": "ipython",
    "version": 3
   },
   "file_extension": ".py",
   "mimetype": "text/x-python",
   "name": "python",
   "nbconvert_exporter": "python",
   "pygments_lexer": "ipython3",
   "version": "3.6.9"
  }
 },
 "nbformat": 4,
 "nbformat_minor": 5
}
